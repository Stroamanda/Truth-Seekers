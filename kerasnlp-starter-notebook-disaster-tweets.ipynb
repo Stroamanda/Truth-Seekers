{
 "cells": [
  {
   "cell_type": "code",
   "execution_count": 1,
   "metadata": {
    "_cell_guid": "1d5f809a-b971-4fa3-b41b-f19d246e97f1",
    "_uuid": "fff6f97f-0bae-408a-9793-98877fd3ffd9",
    "collapsed": false,
    "execution": {
     "iopub.execute_input": "2023-07-31T20:00:45.041191Z",
     "iopub.status.busy": "2023-07-31T20:00:45.040776Z",
     "iopub.status.idle": "2023-07-31T20:01:10.624768Z",
     "shell.execute_reply": "2023-07-31T20:01:10.623539Z",
     "shell.execute_reply.started": "2023-07-31T20:00:45.041149Z"
    },
    "jupyter": {
     "outputs_hidden": false
    },
    "trusted": true
   },
   "outputs": [
    {
     "name": "stdout",
     "output_type": "stream",
     "text": [
      "Collecting keras-core\n",
      "  Using cached keras_core-0.1.5-py3-none-any.whl.metadata (4.0 kB)\n",
      "Collecting absl-py (from keras-core)\n",
      "  Using cached absl_py-2.1.0-py3-none-any.whl.metadata (2.3 kB)\n",
      "Collecting numpy (from keras-core)\n",
      "  Using cached numpy-1.24.4-cp38-cp38-win_amd64.whl.metadata (5.6 kB)\n",
      "Collecting rich (from keras-core)\n",
      "  Using cached rich-13.9.4-py3-none-any.whl.metadata (18 kB)\n",
      "Collecting namex (from keras-core)\n",
      "  Using cached namex-0.0.8-py3-none-any.whl.metadata (246 bytes)\n",
      "Collecting h5py (from keras-core)\n",
      "  Using cached h5py-3.11.0-cp38-cp38-win_amd64.whl.metadata (2.5 kB)\n",
      "Collecting dm-tree (from keras-core)\n",
      "  Using cached dm_tree-0.1.8-cp38-cp38-win_amd64.whl.metadata (2.0 kB)\n",
      "Collecting markdown-it-py>=2.2.0 (from rich->keras-core)\n",
      "  Using cached markdown_it_py-3.0.0-py3-none-any.whl.metadata (6.9 kB)\n",
      "Requirement already satisfied: pygments<3.0.0,>=2.13.0 in c:\\users\\unearthlysoap\\anaconda3\\envs\\seektest\\lib\\site-packages (from rich->keras-core) (2.18.0)\n",
      "Requirement already satisfied: typing-extensions<5.0,>=4.0.0 in c:\\users\\unearthlysoap\\anaconda3\\envs\\seektest\\lib\\site-packages (from rich->keras-core) (4.12.2)\n",
      "Collecting mdurl~=0.1 (from markdown-it-py>=2.2.0->rich->keras-core)\n",
      "  Using cached mdurl-0.1.2-py3-none-any.whl.metadata (1.6 kB)\n",
      "Using cached keras_core-0.1.5-py3-none-any.whl (924 kB)\n",
      "Using cached absl_py-2.1.0-py3-none-any.whl (133 kB)\n",
      "Using cached dm_tree-0.1.8-cp38-cp38-win_amd64.whl (101 kB)\n",
      "Using cached h5py-3.11.0-cp38-cp38-win_amd64.whl (3.0 MB)\n",
      "Using cached numpy-1.24.4-cp38-cp38-win_amd64.whl (14.9 MB)\n",
      "Using cached namex-0.0.8-py3-none-any.whl (5.8 kB)\n",
      "Using cached rich-13.9.4-py3-none-any.whl (242 kB)\n",
      "Using cached markdown_it_py-3.0.0-py3-none-any.whl (87 kB)\n",
      "Using cached mdurl-0.1.2-py3-none-any.whl (10.0 kB)\n",
      "Installing collected packages: namex, dm-tree, numpy, mdurl, absl-py, markdown-it-py, h5py, rich, keras-core\n",
      "Successfully installed absl-py-2.1.0 dm-tree-0.1.8 h5py-3.11.0 keras-core-0.1.5 markdown-it-py-3.0.0 mdurl-0.1.2 namex-0.0.8 numpy-1.24.4 rich-13.9.4\n",
      "Note: you may need to restart the kernel to use updated packages.\n",
      "Note: you may need to restart the kernel to use updated packages.\n"
     ]
    }
   ],
   "source": [
    "%pip install keras-core --upgrade\n",
    "%pip install -q keras-nlp --upgrade\n",
    "\n",
    "# This sample uses Keras Core, the multi-backend version of Keras.\n",
    "# The selected backend is TensorFlow (other supported backends are 'jax' and 'torch')\n",
    "import os\n",
    "os.environ['KERAS_BACKEND'] = 'tensorflow'"
   ]
  },
  {
   "cell_type": "code",
   "execution_count": 3,
   "metadata": {
    "_cell_guid": "1e5fefe7-9541-4551-9b27-879b89e62b1b",
    "_uuid": "7dd7d3a5-79f1-4aef-a7f2-90310e7855a9",
    "collapsed": false,
    "execution": {
     "iopub.execute_input": "2023-07-31T20:01:10.62922Z",
     "iopub.status.busy": "2023-07-31T20:01:10.628924Z",
     "iopub.status.idle": "2023-07-31T20:01:20.556625Z",
     "shell.execute_reply": "2023-07-31T20:01:20.555665Z",
     "shell.execute_reply.started": "2023-07-31T20:01:10.629194Z"
    },
    "jupyter": {
     "outputs_hidden": false
    },
    "trusted": true
   },
   "outputs": [
    {
     "name": "stdout",
     "output_type": "stream",
     "text": [
      "TensorFlow version: 2.10.1\n",
      "KerasNLP version: 0.6.1\n"
     ]
    }
   ],
   "source": [
    "import numpy as np # linear algebra\n",
    "import pandas as pd # data processing, CSV file I/O (e.g. pd.read_csv)\n",
    "import tensorflow as tf\n",
    "import keras_core as keras\n",
    "import keras_nlp\n",
    "from sklearn.metrics import ConfusionMatrixDisplay, confusion_matrix\n",
    "import seaborn as sns\n",
    "import matplotlib.pyplot as plt\n",
    "\n",
    "print(\"TensorFlow version:\", tf.__version__)\n",
    "print(\"KerasNLP version:\", keras_nlp.__version__)"
   ]
  },
  {
   "cell_type": "code",
   "execution_count": 124,
   "metadata": {
    "_cell_guid": "bd37841c-576e-4ae8-a3d9-1961cccb9fdf",
    "_uuid": "c38a18dc-bef5-497d-afc2-fb2b18ddb4e3",
    "collapsed": false,
    "execution": {
     "iopub.execute_input": "2023-07-31T20:01:20.558472Z",
     "iopub.status.busy": "2023-07-31T20:01:20.557857Z",
     "iopub.status.idle": "2023-07-31T20:01:20.62669Z",
     "shell.execute_reply": "2023-07-31T20:01:20.625756Z",
     "shell.execute_reply.started": "2023-07-31T20:01:20.558435Z"
    },
    "jupyter": {
     "outputs_hidden": false
    },
    "trusted": true
   },
   "outputs": [
    {
     "name": "stdout",
     "output_type": "stream",
     "text": [
      "Training Set Shape = (107358, 9)\n",
      "Training Set Memory Usage = 7.47 MB\n",
      "Test Set Shape = (26840, 7)\n",
      "Test Set Memory Usage = 1.46 MB\n"
     ]
    }
   ],
   "source": [
    "# df_train = pd.read_csv(\"/kaggle/input/nlp-getting-started/train.csv\")\n",
    "# df_test = pd.read_csv(\"/kaggle/input/nlp-getting-started/test.csv\")\n",
    "\n",
    "from sklearn.model_selection import train_test_split\n",
    "df = pd.read_csv(\"Truth_Seeker_Model_Dataset.csv\")\n",
    "\n",
    "sentences = df['target'].astype(str) + 'Statement: ' + df['statement'] + '| Tweet: ' + df['tweet']\n",
    "labels = df[\"BinaryNumTarget\"].values\n",
    "\n",
    "df_train, df_test = train_test_split(df, test_size=0.2, random_state=42)\n",
    "\n",
    "train_sentences = df_train['target'].astype(str) + 'Statement: ' + df_train['statement'] + '| Tweet: ' + df_train['tweet']\n",
    "train_labels = df_train[\"BinaryNumTarget\"].values\n",
    "\n",
    "# Prepare test sentences and labels\n",
    "test_sentences = df_test['target'].astype(str) + 'Statement: ' + df_test['statement'] + '| Tweet: ' + df_test['tweet']\n",
    "test_labels = df_test[\"BinaryNumTarget\"].values\n",
    "\n",
    "df2_test = df_test.copy()\n",
    "df_test = df_test.drop(['5_label_majority_answer', '3_label_majority_answer'], axis=1) \n",
    "\n",
    "print('Training Set Shape = {}'.format(df_train.shape))\n",
    "print('Training Set Memory Usage = {:.2f} MB'.format(df_train.memory_usage().sum() / 1024**2))\n",
    "print('Test Set Shape = {}'.format(df_test.shape))\n",
    "print('Test Set Memory Usage = {:.2f} MB'.format(df_test.memory_usage().sum() / 1024**2))"
   ]
  },
  {
   "cell_type": "code",
   "execution_count": 125,
   "metadata": {
    "_cell_guid": "d218dd65-d814-41d5-a091-83e5717b171d",
    "_uuid": "91723eeb-c0b4-4f2b-bee6-61da8469cbf4",
    "collapsed": false,
    "execution": {
     "iopub.execute_input": "2023-07-31T20:01:20.629925Z",
     "iopub.status.busy": "2023-07-31T20:01:20.629651Z",
     "iopub.status.idle": "2023-07-31T20:01:20.646214Z",
     "shell.execute_reply": "2023-07-31T20:01:20.645286Z",
     "shell.execute_reply.started": "2023-07-31T20:01:20.6299Z"
    },
    "jupyter": {
     "outputs_hidden": false
    },
    "trusted": true
   },
   "outputs": [
    {
     "data": {
      "text/html": [
       "<div>\n",
       "<style scoped>\n",
       "    .dataframe tbody tr th:only-of-type {\n",
       "        vertical-align: middle;\n",
       "    }\n",
       "\n",
       "    .dataframe tbody tr th {\n",
       "        vertical-align: top;\n",
       "    }\n",
       "\n",
       "    .dataframe thead th {\n",
       "        text-align: right;\n",
       "    }\n",
       "</style>\n",
       "<table border=\"1\" class=\"dataframe\">\n",
       "  <thead>\n",
       "    <tr style=\"text-align: right;\">\n",
       "      <th></th>\n",
       "      <th>Unnamed: 0</th>\n",
       "      <th>author</th>\n",
       "      <th>statement</th>\n",
       "      <th>target</th>\n",
       "      <th>BinaryNumTarget</th>\n",
       "      <th>manual_keywords</th>\n",
       "      <th>tweet</th>\n",
       "      <th>5_label_majority_answer</th>\n",
       "      <th>3_label_majority_answer</th>\n",
       "    </tr>\n",
       "  </thead>\n",
       "  <tbody>\n",
       "    <tr>\n",
       "      <th>26587</th>\n",
       "      <td>26587</td>\n",
       "      <td>Miriam Valverde</td>\n",
       "      <td>\"We've had Muslims in America since George Was...</td>\n",
       "      <td>True</td>\n",
       "      <td>1.0</td>\n",
       "      <td>Muslims, America, George Washington</td>\n",
       "      <td>OMG radical Islamic. That's disgusting. Muslim...</td>\n",
       "      <td>Mostly Disagree</td>\n",
       "      <td>Disagree</td>\n",
       "    </tr>\n",
       "    <tr>\n",
       "      <th>36010</th>\n",
       "      <td>36010</td>\n",
       "      <td>Louis Jacobson</td>\n",
       "      <td>\"According to the Centers for Disease Control ...</td>\n",
       "      <td>True</td>\n",
       "      <td>1.0</td>\n",
       "      <td>CDC, overdose</td>\n",
       "      <td>@joshdcaplan Each of Drug overdose deaths were...</td>\n",
       "      <td>Agree</td>\n",
       "      <td>Agree</td>\n",
       "    </tr>\n",
       "    <tr>\n",
       "      <th>80031</th>\n",
       "      <td>80031</td>\n",
       "      <td>Clara Hendrickson</td>\n",
       "      <td>\"Michigan has requested a full forensic audit.\"</td>\n",
       "      <td>False</td>\n",
       "      <td>0.0</td>\n",
       "      <td>Michigan,audit,forensic</td>\n",
       "      <td>@MIAttyGen I'm looking forward to a forensic a...</td>\n",
       "      <td>Agree</td>\n",
       "      <td>Agree</td>\n",
       "    </tr>\n",
       "    <tr>\n",
       "      <th>130086</th>\n",
       "      <td>130086</td>\n",
       "      <td>Tom Kertscher</td>\n",
       "      <td>\"Black Lives Matter is a terrorist organization.\"</td>\n",
       "      <td>False</td>\n",
       "      <td>0.0</td>\n",
       "      <td>Black Lives Matter, terrorist organization</td>\n",
       "      <td>@hoosier_patrick @SteveHinnefeld 99% of people...</td>\n",
       "      <td>Agree</td>\n",
       "      <td>Agree</td>\n",
       "    </tr>\n",
       "    <tr>\n",
       "      <th>54842</th>\n",
       "      <td>54842</td>\n",
       "      <td>Gabrielle Settles</td>\n",
       "      <td>There were no guns whatsoever at the Capitol r...</td>\n",
       "      <td>False</td>\n",
       "      <td>0.0</td>\n",
       "      <td>capitol gun jan</td>\n",
       "      <td>\"As the pro-Trump mob seized Mike Fanone, a D....</td>\n",
       "      <td>NO MAJORITY</td>\n",
       "      <td>Disagree</td>\n",
       "    </tr>\n",
       "  </tbody>\n",
       "</table>\n",
       "</div>"
      ],
      "text/plain": [
       "        Unnamed: 0             author  \\\n",
       "26587        26587    Miriam Valverde   \n",
       "36010        36010     Louis Jacobson   \n",
       "80031        80031  Clara Hendrickson   \n",
       "130086      130086      Tom Kertscher   \n",
       "54842        54842  Gabrielle Settles   \n",
       "\n",
       "                                                statement  target  \\\n",
       "26587   \"We've had Muslims in America since George Was...    True   \n",
       "36010   \"According to the Centers for Disease Control ...    True   \n",
       "80031     \"Michigan has requested a full forensic audit.\"   False   \n",
       "130086  \"Black Lives Matter is a terrorist organization.\"   False   \n",
       "54842   There were no guns whatsoever at the Capitol r...   False   \n",
       "\n",
       "        BinaryNumTarget                             manual_keywords  \\\n",
       "26587               1.0         Muslims, America, George Washington   \n",
       "36010               1.0                               CDC, overdose   \n",
       "80031               0.0                     Michigan,audit,forensic   \n",
       "130086              0.0  Black Lives Matter, terrorist organization   \n",
       "54842               0.0                             capitol gun jan   \n",
       "\n",
       "                                                    tweet  \\\n",
       "26587   OMG radical Islamic. That's disgusting. Muslim...   \n",
       "36010   @joshdcaplan Each of Drug overdose deaths were...   \n",
       "80031   @MIAttyGen I'm looking forward to a forensic a...   \n",
       "130086  @hoosier_patrick @SteveHinnefeld 99% of people...   \n",
       "54842   \"As the pro-Trump mob seized Mike Fanone, a D....   \n",
       "\n",
       "       5_label_majority_answer 3_label_majority_answer  \n",
       "26587          Mostly Disagree                Disagree  \n",
       "36010                    Agree                   Agree  \n",
       "80031                    Agree                   Agree  \n",
       "130086                   Agree                   Agree  \n",
       "54842              NO MAJORITY                Disagree  "
      ]
     },
     "execution_count": 125,
     "metadata": {},
     "output_type": "execute_result"
    }
   ],
   "source": [
    "df_train.head()"
   ]
  },
  {
   "cell_type": "code",
   "execution_count": 126,
   "metadata": {
    "_cell_guid": "afd9de3f-483e-4d0f-bfc7-ae17994b26dd",
    "_uuid": "22a9758d-7a9e-430e-82e2-7f5ba45c56a0",
    "collapsed": false,
    "execution": {
     "iopub.execute_input": "2023-07-31T20:01:20.649765Z",
     "iopub.status.busy": "2023-07-31T20:01:20.649504Z",
     "iopub.status.idle": "2023-07-31T20:01:20.659375Z",
     "shell.execute_reply": "2023-07-31T20:01:20.658296Z",
     "shell.execute_reply.started": "2023-07-31T20:01:20.649741Z"
    },
    "jupyter": {
     "outputs_hidden": false
    },
    "trusted": true
   },
   "outputs": [
    {
     "data": {
      "text/html": [
       "<div>\n",
       "<style scoped>\n",
       "    .dataframe tbody tr th:only-of-type {\n",
       "        vertical-align: middle;\n",
       "    }\n",
       "\n",
       "    .dataframe tbody tr th {\n",
       "        vertical-align: top;\n",
       "    }\n",
       "\n",
       "    .dataframe thead th {\n",
       "        text-align: right;\n",
       "    }\n",
       "</style>\n",
       "<table border=\"1\" class=\"dataframe\">\n",
       "  <thead>\n",
       "    <tr style=\"text-align: right;\">\n",
       "      <th></th>\n",
       "      <th>Unnamed: 0</th>\n",
       "      <th>author</th>\n",
       "      <th>statement</th>\n",
       "      <th>target</th>\n",
       "      <th>BinaryNumTarget</th>\n",
       "      <th>manual_keywords</th>\n",
       "      <th>tweet</th>\n",
       "    </tr>\n",
       "  </thead>\n",
       "  <tbody>\n",
       "    <tr>\n",
       "      <th>122451</th>\n",
       "      <td>122451</td>\n",
       "      <td>Daniel Funke</td>\n",
       "      <td>At 17 years old Kyle (Rittenhouse) was perfect...</td>\n",
       "      <td>False</td>\n",
       "      <td>0.0</td>\n",
       "      <td>Kyle,possess,rifle,legal</td>\n",
       "      <td>@fattycattie @robquinnpc @SammyTMcCarty @WCCO ...</td>\n",
       "    </tr>\n",
       "    <tr>\n",
       "      <th>14029</th>\n",
       "      <td>14029</td>\n",
       "      <td>Jill Terreri</td>\n",
       "      <td>\"I actually in 2005 ran on Medicare for all.\"</td>\n",
       "      <td>True</td>\n",
       "      <td>1.0</td>\n",
       "      <td>2005, ran on Medicare</td>\n",
       "      <td>never forget, Matt Santos ran on Medicare for ...</td>\n",
       "    </tr>\n",
       "    <tr>\n",
       "      <th>51449</th>\n",
       "      <td>51449</td>\n",
       "      <td>Miriam Valverde</td>\n",
       "      <td>COVID-19 vaccinations are a violation of the N...</td>\n",
       "      <td>False</td>\n",
       "      <td>0.0</td>\n",
       "      <td>vaccine,Nuremberg code,viloation</td>\n",
       "      <td>@BilldeBlasio You are mandating an experimenta...</td>\n",
       "    </tr>\n",
       "    <tr>\n",
       "      <th>17981</th>\n",
       "      <td>17981</td>\n",
       "      <td>Manuela Tobias</td>\n",
       "      <td>\"You know what Amazon paid in federal income t...</td>\n",
       "      <td>True</td>\n",
       "      <td>1.0</td>\n",
       "      <td>Amazon, federal income taxes, zero</td>\n",
       "      <td>@SenSanders The working class is literally bei...</td>\n",
       "    </tr>\n",
       "    <tr>\n",
       "      <th>66284</th>\n",
       "      <td>66284</td>\n",
       "      <td>Julie Kliegman</td>\n",
       "      <td>\"Crimea became part of Ukraine only in 1954. C...</td>\n",
       "      <td>True</td>\n",
       "      <td>1.0</td>\n",
       "      <td>Crimea, historically, Russia</td>\n",
       "      <td>@PeterTong9 @timand2037 @ClimateAudit But none...</td>\n",
       "    </tr>\n",
       "  </tbody>\n",
       "</table>\n",
       "</div>"
      ],
      "text/plain": [
       "        Unnamed: 0           author  \\\n",
       "122451      122451     Daniel Funke   \n",
       "14029        14029     Jill Terreri   \n",
       "51449        51449  Miriam Valverde   \n",
       "17981        17981   Manuela Tobias   \n",
       "66284        66284   Julie Kliegman   \n",
       "\n",
       "                                                statement  target  \\\n",
       "122451  At 17 years old Kyle (Rittenhouse) was perfect...   False   \n",
       "14029       \"I actually in 2005 ran on Medicare for all.\"    True   \n",
       "51449   COVID-19 vaccinations are a violation of the N...   False   \n",
       "17981   \"You know what Amazon paid in federal income t...    True   \n",
       "66284   \"Crimea became part of Ukraine only in 1954. C...    True   \n",
       "\n",
       "        BinaryNumTarget                     manual_keywords  \\\n",
       "122451              0.0            Kyle,possess,rifle,legal   \n",
       "14029               1.0               2005, ran on Medicare   \n",
       "51449               0.0    vaccine,Nuremberg code,viloation   \n",
       "17981               1.0  Amazon, federal income taxes, zero   \n",
       "66284               1.0        Crimea, historically, Russia   \n",
       "\n",
       "                                                    tweet  \n",
       "122451  @fattycattie @robquinnpc @SammyTMcCarty @WCCO ...  \n",
       "14029   never forget, Matt Santos ran on Medicare for ...  \n",
       "51449   @BilldeBlasio You are mandating an experimenta...  \n",
       "17981   @SenSanders The working class is literally bei...  \n",
       "66284   @PeterTong9 @timand2037 @ClimateAudit But none...  "
      ]
     },
     "execution_count": 126,
     "metadata": {},
     "output_type": "execute_result"
    }
   ],
   "source": [
    "df_test.head()"
   ]
  },
  {
   "cell_type": "code",
   "execution_count": 127,
   "metadata": {},
   "outputs": [],
   "source": [
    "def generate_truthfulness_4way(row):\n",
    "    if row['target'] == True:\n",
    "        if row['5_label_majority_answer'] == 'Agree':\n",
    "            return \"True\"\n",
    "        elif row['5_label_majority_answer'] == 'Disagree':\n",
    "            return \"False\"\n",
    "        elif row['5_label_majority_answer'] == 'Mostly Agree':\n",
    "            return \"Mostly True\"\n",
    "        elif row['5_label_majority_answer'] == 'Mostly Disagree':\n",
    "            return \"Mostly False\"\n",
    "    else:\n",
    "        if row['5_label_majority_answer'] == 'Agree':\n",
    "            return \"False\"\n",
    "        elif row['5_label_majority_answer'] == 'Disagree':\n",
    "            return \"True\"\n",
    "        elif row['5_label_majority_answer'] == 'Mostly Agree':\n",
    "            return \"Mostly False\"\n",
    "        elif row['5_label_majority_answer'] == 'Mostly Disagree':\n",
    "            return \"Mostly True\"\n",
    "\n",
    "def generate_truthfulness_2way(row):\n",
    "    if row['target'] == True:\n",
    "        if row['3_label_majority_answer'] == 'Agree':\n",
    "            return \"True\"\n",
    "        elif row['3_label_majority_answer'] == 'Disagree':\n",
    "            return \"False\"\n",
    "    else:\n",
    "        if row['3_label_majority_answer'] == 'Agree':\n",
    "            return \"False\"\n",
    "        elif row['3_label_majority_answer'] == 'Disagree':\n",
    "            return \"True\""
   ]
  },
  {
   "cell_type": "code",
   "execution_count": null,
   "metadata": {},
   "outputs": [],
   "source": [
    "df2_train = df_train.copy()\n",
    "# df2_train['4-way-label'] = df2_train.apply(lambda x: generate_truthfulness_4way(x), axis=1)\n",
    "# df2_train['4-way-label'] = df2_train['4-way-label'].replace({'True': 0, 'False': 1, 'Mostly True': 2, 'Mostly False': 3})\n",
    "df2_train['2-way-label'] = df2_train.apply(lambda x: generate_truthfulness_2way(x), axis=1)\n",
    "df2_train['2-way-label'] = df2_train['2-way-label'].replace({'True': 0, 'False': 1})\n"
   ]
  },
  {
   "cell_type": "code",
   "execution_count": 129,
   "metadata": {},
   "outputs": [],
   "source": [
    "df_train = df2_train"
   ]
  },
  {
   "cell_type": "code",
   "execution_count": 130,
   "metadata": {},
   "outputs": [],
   "source": [
    "df_train = df_train.drop(['5_label_majority_answer', '3_label_majority_answer'], axis=1) "
   ]
  },
  {
   "cell_type": "code",
   "execution_count": 131,
   "metadata": {},
   "outputs": [
    {
     "data": {
      "text/html": [
       "<div>\n",
       "<style scoped>\n",
       "    .dataframe tbody tr th:only-of-type {\n",
       "        vertical-align: middle;\n",
       "    }\n",
       "\n",
       "    .dataframe tbody tr th {\n",
       "        vertical-align: top;\n",
       "    }\n",
       "\n",
       "    .dataframe thead th {\n",
       "        text-align: right;\n",
       "    }\n",
       "</style>\n",
       "<table border=\"1\" class=\"dataframe\">\n",
       "  <thead>\n",
       "    <tr style=\"text-align: right;\">\n",
       "      <th></th>\n",
       "      <th>Unnamed: 0</th>\n",
       "      <th>author</th>\n",
       "      <th>statement</th>\n",
       "      <th>target</th>\n",
       "      <th>BinaryNumTarget</th>\n",
       "      <th>manual_keywords</th>\n",
       "      <th>tweet</th>\n",
       "      <th>2-way-label</th>\n",
       "    </tr>\n",
       "  </thead>\n",
       "  <tbody>\n",
       "    <tr>\n",
       "      <th>26587</th>\n",
       "      <td>26587</td>\n",
       "      <td>Miriam Valverde</td>\n",
       "      <td>\"We've had Muslims in America since George Was...</td>\n",
       "      <td>True</td>\n",
       "      <td>1.0</td>\n",
       "      <td>Muslims, America, George Washington</td>\n",
       "      <td>OMG radical Islamic. That's disgusting. Muslim...</td>\n",
       "      <td>1</td>\n",
       "    </tr>\n",
       "    <tr>\n",
       "      <th>36010</th>\n",
       "      <td>36010</td>\n",
       "      <td>Louis Jacobson</td>\n",
       "      <td>\"According to the Centers for Disease Control ...</td>\n",
       "      <td>True</td>\n",
       "      <td>1.0</td>\n",
       "      <td>CDC, overdose</td>\n",
       "      <td>@joshdcaplan Each of Drug overdose deaths were...</td>\n",
       "      <td>0</td>\n",
       "    </tr>\n",
       "    <tr>\n",
       "      <th>80031</th>\n",
       "      <td>80031</td>\n",
       "      <td>Clara Hendrickson</td>\n",
       "      <td>\"Michigan has requested a full forensic audit.\"</td>\n",
       "      <td>False</td>\n",
       "      <td>0.0</td>\n",
       "      <td>Michigan,audit,forensic</td>\n",
       "      <td>@MIAttyGen I'm looking forward to a forensic a...</td>\n",
       "      <td>1</td>\n",
       "    </tr>\n",
       "    <tr>\n",
       "      <th>130086</th>\n",
       "      <td>130086</td>\n",
       "      <td>Tom Kertscher</td>\n",
       "      <td>\"Black Lives Matter is a terrorist organization.\"</td>\n",
       "      <td>False</td>\n",
       "      <td>0.0</td>\n",
       "      <td>Black Lives Matter, terrorist organization</td>\n",
       "      <td>@hoosier_patrick @SteveHinnefeld 99% of people...</td>\n",
       "      <td>1</td>\n",
       "    </tr>\n",
       "    <tr>\n",
       "      <th>54842</th>\n",
       "      <td>54842</td>\n",
       "      <td>Gabrielle Settles</td>\n",
       "      <td>There were no guns whatsoever at the Capitol r...</td>\n",
       "      <td>False</td>\n",
       "      <td>0.0</td>\n",
       "      <td>capitol gun jan</td>\n",
       "      <td>\"As the pro-Trump mob seized Mike Fanone, a D....</td>\n",
       "      <td>0</td>\n",
       "    </tr>\n",
       "  </tbody>\n",
       "</table>\n",
       "</div>"
      ],
      "text/plain": [
       "        Unnamed: 0             author  \\\n",
       "26587        26587    Miriam Valverde   \n",
       "36010        36010     Louis Jacobson   \n",
       "80031        80031  Clara Hendrickson   \n",
       "130086      130086      Tom Kertscher   \n",
       "54842        54842  Gabrielle Settles   \n",
       "\n",
       "                                                statement  target  \\\n",
       "26587   \"We've had Muslims in America since George Was...    True   \n",
       "36010   \"According to the Centers for Disease Control ...    True   \n",
       "80031     \"Michigan has requested a full forensic audit.\"   False   \n",
       "130086  \"Black Lives Matter is a terrorist organization.\"   False   \n",
       "54842   There were no guns whatsoever at the Capitol r...   False   \n",
       "\n",
       "        BinaryNumTarget                             manual_keywords  \\\n",
       "26587               1.0         Muslims, America, George Washington   \n",
       "36010               1.0                               CDC, overdose   \n",
       "80031               0.0                     Michigan,audit,forensic   \n",
       "130086              0.0  Black Lives Matter, terrorist organization   \n",
       "54842               0.0                             capitol gun jan   \n",
       "\n",
       "                                                    tweet  2-way-label  \n",
       "26587   OMG radical Islamic. That's disgusting. Muslim...            1  \n",
       "36010   @joshdcaplan Each of Drug overdose deaths were...            0  \n",
       "80031   @MIAttyGen I'm looking forward to a forensic a...            1  \n",
       "130086  @hoosier_patrick @SteveHinnefeld 99% of people...            1  \n",
       "54842   \"As the pro-Trump mob seized Mike Fanone, a D....            0  "
      ]
     },
     "execution_count": 131,
     "metadata": {},
     "output_type": "execute_result"
    }
   ],
   "source": [
    "df_train.head()"
   ]
  },
  {
   "cell_type": "code",
   "execution_count": 132,
   "metadata": {},
   "outputs": [
    {
     "data": {
      "text/html": [
       "<div>\n",
       "<style scoped>\n",
       "    .dataframe tbody tr th:only-of-type {\n",
       "        vertical-align: middle;\n",
       "    }\n",
       "\n",
       "    .dataframe tbody tr th {\n",
       "        vertical-align: top;\n",
       "    }\n",
       "\n",
       "    .dataframe thead th {\n",
       "        text-align: right;\n",
       "    }\n",
       "</style>\n",
       "<table border=\"1\" class=\"dataframe\">\n",
       "  <thead>\n",
       "    <tr style=\"text-align: right;\">\n",
       "      <th></th>\n",
       "      <th>Unnamed: 0</th>\n",
       "      <th>author</th>\n",
       "      <th>statement</th>\n",
       "      <th>target</th>\n",
       "      <th>BinaryNumTarget</th>\n",
       "      <th>manual_keywords</th>\n",
       "      <th>tweet</th>\n",
       "    </tr>\n",
       "  </thead>\n",
       "  <tbody>\n",
       "    <tr>\n",
       "      <th>122451</th>\n",
       "      <td>122451</td>\n",
       "      <td>Daniel Funke</td>\n",
       "      <td>At 17 years old Kyle (Rittenhouse) was perfect...</td>\n",
       "      <td>False</td>\n",
       "      <td>0.0</td>\n",
       "      <td>Kyle,possess,rifle,legal</td>\n",
       "      <td>@fattycattie @robquinnpc @SammyTMcCarty @WCCO ...</td>\n",
       "    </tr>\n",
       "    <tr>\n",
       "      <th>14029</th>\n",
       "      <td>14029</td>\n",
       "      <td>Jill Terreri</td>\n",
       "      <td>\"I actually in 2005 ran on Medicare for all.\"</td>\n",
       "      <td>True</td>\n",
       "      <td>1.0</td>\n",
       "      <td>2005, ran on Medicare</td>\n",
       "      <td>never forget, Matt Santos ran on Medicare for ...</td>\n",
       "    </tr>\n",
       "    <tr>\n",
       "      <th>51449</th>\n",
       "      <td>51449</td>\n",
       "      <td>Miriam Valverde</td>\n",
       "      <td>COVID-19 vaccinations are a violation of the N...</td>\n",
       "      <td>False</td>\n",
       "      <td>0.0</td>\n",
       "      <td>vaccine,Nuremberg code,viloation</td>\n",
       "      <td>@BilldeBlasio You are mandating an experimenta...</td>\n",
       "    </tr>\n",
       "    <tr>\n",
       "      <th>17981</th>\n",
       "      <td>17981</td>\n",
       "      <td>Manuela Tobias</td>\n",
       "      <td>\"You know what Amazon paid in federal income t...</td>\n",
       "      <td>True</td>\n",
       "      <td>1.0</td>\n",
       "      <td>Amazon, federal income taxes, zero</td>\n",
       "      <td>@SenSanders The working class is literally bei...</td>\n",
       "    </tr>\n",
       "    <tr>\n",
       "      <th>66284</th>\n",
       "      <td>66284</td>\n",
       "      <td>Julie Kliegman</td>\n",
       "      <td>\"Crimea became part of Ukraine only in 1954. C...</td>\n",
       "      <td>True</td>\n",
       "      <td>1.0</td>\n",
       "      <td>Crimea, historically, Russia</td>\n",
       "      <td>@PeterTong9 @timand2037 @ClimateAudit But none...</td>\n",
       "    </tr>\n",
       "  </tbody>\n",
       "</table>\n",
       "</div>"
      ],
      "text/plain": [
       "        Unnamed: 0           author  \\\n",
       "122451      122451     Daniel Funke   \n",
       "14029        14029     Jill Terreri   \n",
       "51449        51449  Miriam Valverde   \n",
       "17981        17981   Manuela Tobias   \n",
       "66284        66284   Julie Kliegman   \n",
       "\n",
       "                                                statement  target  \\\n",
       "122451  At 17 years old Kyle (Rittenhouse) was perfect...   False   \n",
       "14029       \"I actually in 2005 ran on Medicare for all.\"    True   \n",
       "51449   COVID-19 vaccinations are a violation of the N...   False   \n",
       "17981   \"You know what Amazon paid in federal income t...    True   \n",
       "66284   \"Crimea became part of Ukraine only in 1954. C...    True   \n",
       "\n",
       "        BinaryNumTarget                     manual_keywords  \\\n",
       "122451              0.0            Kyle,possess,rifle,legal   \n",
       "14029               1.0               2005, ran on Medicare   \n",
       "51449               0.0    vaccine,Nuremberg code,viloation   \n",
       "17981               1.0  Amazon, federal income taxes, zero   \n",
       "66284               1.0        Crimea, historically, Russia   \n",
       "\n",
       "                                                    tweet  \n",
       "122451  @fattycattie @robquinnpc @SammyTMcCarty @WCCO ...  \n",
       "14029   never forget, Matt Santos ran on Medicare for ...  \n",
       "51449   @BilldeBlasio You are mandating an experimenta...  \n",
       "17981   @SenSanders The working class is literally bei...  \n",
       "66284   @PeterTong9 @timand2037 @ClimateAudit But none...  "
      ]
     },
     "execution_count": 132,
     "metadata": {},
     "output_type": "execute_result"
    }
   ],
   "source": [
    "df_test.head()"
   ]
  },
  {
   "cell_type": "code",
   "execution_count": 133,
   "metadata": {},
   "outputs": [
    {
     "name": "stdout",
     "output_type": "stream",
     "text": [
      "Loading BERT tokenizer...\n"
     ]
    }
   ],
   "source": [
    "from transformers import DistilBertTokenizer, DistilBertForSequenceClassification\n",
    "# Load the BERT tokenizer.\n",
    "print('Loading BERT tokenizer...')\n",
    "tokenizer = DistilBertTokenizer.from_pretrained('distilbert-base-uncased')\n",
    "MAX_SENTENCE_LENGTH = 410"
   ]
  },
  {
   "cell_type": "code",
   "execution_count": 134,
   "metadata": {
    "_cell_guid": "a02ae6d4-f7b5-4c0b-bd3f-6705052888a3",
    "_uuid": "579f74f6-ae54-4a2d-bbff-c13d692a2a76",
    "collapsed": false,
    "execution": {
     "iopub.execute_input": "2023-07-31T20:01:20.688711Z",
     "iopub.status.busy": "2023-07-31T20:01:20.688377Z",
     "iopub.status.idle": "2023-07-31T20:01:20.694731Z",
     "shell.execute_reply": "2023-07-31T20:01:20.693638Z",
     "shell.execute_reply.started": "2023-07-31T20:01:20.688679Z"
    },
    "jupyter": {
     "outputs_hidden": false
    },
    "trusted": true
   },
   "outputs": [],
   "source": [
    "BATCH_SIZE = 40\n",
    "NUM_TRAINING_EXAMPLES = df_train.shape[0]\n",
    "TRAIN_SPLIT = 0.8\n",
    "VAL_SPLIT = 0.2\n",
    "STEPS_PER_EPOCH = int(NUM_TRAINING_EXAMPLES)*TRAIN_SPLIT // BATCH_SIZE\n",
    "\n",
    "EPOCHS = 2\n",
    "AUTO = tf.data.experimental.AUTOTUNE"
   ]
  },
  {
   "cell_type": "code",
   "execution_count": 135,
   "metadata": {
    "_cell_guid": "351bde60-883f-49b0-89ab-adc80f953c63",
    "_uuid": "9355772e-ea60-4353-8835-212b8b5b5f42",
    "collapsed": false,
    "execution": {
     "iopub.execute_input": "2023-07-31T20:01:20.697023Z",
     "iopub.status.busy": "2023-07-31T20:01:20.696116Z",
     "iopub.status.idle": "2023-07-31T20:01:20.717538Z",
     "shell.execute_reply": "2023-07-31T20:01:20.716665Z",
     "shell.execute_reply.started": "2023-07-31T20:01:20.696979Z"
    },
    "jupyter": {
     "outputs_hidden": false
    },
    "trusted": true
   },
   "outputs": [],
   "source": [
    "from sklearn.model_selection import train_test_split\n",
    "\n",
    "\n",
    "X = df_train[\"target\"].astype(str) + ' Statement: ' + df_train['statement'] + ' | Tweet: ' + df_train['tweet']\n",
    "y = df_train[\"2-way-label\"]\n",
    "# y = df_train[\"4-way-label\"]\n",
    "\n",
    "X_train, X_val, y_train, y_val = train_test_split(X, y, test_size=VAL_SPLIT, random_state=42)\n",
    "\n",
    "X_test = df_test[\"target\"].astype(str) + ' Statement: ' + df_test['statement'] + ' | Tweet: ' + df_test['tweet']\n",
    "y_test = df_test[\"BinaryNumTarget\"]"
   ]
  },
  {
   "cell_type": "code",
   "execution_count": 136,
   "metadata": {
    "_cell_guid": "0e33b8cc-44d5-4235-b805-5a862a2d7949",
    "_uuid": "2d95ef57-0aba-4066-841e-569cb786b1d1",
    "collapsed": false,
    "execution": {
     "iopub.execute_input": "2023-07-31T20:01:20.719649Z",
     "iopub.status.busy": "2023-07-31T20:01:20.719008Z",
     "iopub.status.idle": "2023-07-31T20:01:37.14406Z",
     "shell.execute_reply": "2023-07-31T20:01:37.142842Z",
     "shell.execute_reply.started": "2023-07-31T20:01:20.7196Z"
    },
    "jupyter": {
     "outputs_hidden": false
    },
    "trusted": true
   },
   "outputs": [
    {
     "data": {
      "text/html": [
       "<pre style=\"white-space:pre;overflow-x:auto;line-height:normal;font-family:Menlo,'DejaVu Sans Mono',consolas,'Courier New',monospace\"><span style=\"font-weight: bold\">Preprocessor: \"preprocessor_4_tweets\"</span>\n",
       "</pre>\n"
      ],
      "text/plain": [
       "\u001b[1mPreprocessor: \"preprocessor_4_tweets\"\u001b[0m\n"
      ]
     },
     "metadata": {},
     "output_type": "display_data"
    },
    {
     "data": {
      "text/html": [
       "<pre style=\"white-space:pre;overflow-x:auto;line-height:normal;font-family:Menlo,'DejaVu Sans Mono',consolas,'Courier New',monospace\">┏━━━━━━━━━━━━━━━━━━━━━━━━━━━━━━━━━━━━━━━━━━━━━━━━━━━━┳━━━━━━━━━━━━━━━━━━━━━━━━━━━━━━━━━━━━━━━━━━━━━━━━━━━━━┓\n",
       "┃<span style=\"font-weight: bold\"> Tokenizer (type)                                   </span>┃<span style=\"font-weight: bold\">                                             Vocab # </span>┃\n",
       "┡━━━━━━━━━━━━━━━━━━━━━━━━━━━━━━━━━━━━━━━━━━━━━━━━━━━━╇━━━━━━━━━━━━━━━━━━━━━━━━━━━━━━━━━━━━━━━━━━━━━━━━━━━━━┩\n",
       "│ distil_bert_tokenizer_7 (<span style=\"color: #0087ff; text-decoration-color: #0087ff\">DistilBertTokenizer</span>)      │                                              <span style=\"color: #00af00; text-decoration-color: #00af00\">30,522</span> │\n",
       "└────────────────────────────────────────────────────┴─────────────────────────────────────────────────────┘\n",
       "</pre>\n"
      ],
      "text/plain": [
       "┏━━━━━━━━━━━━━━━━━━━━━━━━━━━━━━━━━━━━━━━━━━━━━━━━━━━━┳━━━━━━━━━━━━━━━━━━━━━━━━━━━━━━━━━━━━━━━━━━━━━━━━━━━━━┓\n",
       "┃\u001b[1m \u001b[0m\u001b[1mTokenizer (type)                                  \u001b[0m\u001b[1m \u001b[0m┃\u001b[1m \u001b[0m\u001b[1m                                            Vocab #\u001b[0m\u001b[1m \u001b[0m┃\n",
       "┡━━━━━━━━━━━━━━━━━━━━━━━━━━━━━━━━━━━━━━━━━━━━━━━━━━━━╇━━━━━━━━━━━━━━━━━━━━━━━━━━━━━━━━━━━━━━━━━━━━━━━━━━━━━┩\n",
       "│ distil_bert_tokenizer_7 (\u001b[38;5;33mDistilBertTokenizer\u001b[0m)      │                                              \u001b[38;5;34m30,522\u001b[0m │\n",
       "└────────────────────────────────────────────────────┴─────────────────────────────────────────────────────┘\n"
      ]
     },
     "metadata": {},
     "output_type": "display_data"
    },
    {
     "data": {
      "text/html": [
       "<pre style=\"white-space:pre;overflow-x:auto;line-height:normal;font-family:Menlo,'DejaVu Sans Mono',consolas,'Courier New',monospace\"><span style=\"font-weight: bold\">Model: \"distil_bert_classifier_7\"</span>\n",
       "</pre>\n"
      ],
      "text/plain": [
       "\u001b[1mModel: \"distil_bert_classifier_7\"\u001b[0m\n"
      ]
     },
     "metadata": {},
     "output_type": "display_data"
    },
    {
     "data": {
      "text/html": [
       "<pre style=\"white-space:pre;overflow-x:auto;line-height:normal;font-family:Menlo,'DejaVu Sans Mono',consolas,'Courier New',monospace\">┏━━━━━━━━━━━━━━━━━━━━━━━━━━━━━━━━━━━━━━━━━━━━━━━┳━━━━━━━━━━━━━━━━━━━━━━━━━━━━━━━━━━━━━━━━┳━━━━━━━━━━━━━━━━━┓\n",
       "┃<span style=\"font-weight: bold\"> Layer (type)                                  </span>┃<span style=\"font-weight: bold\"> Output Shape                           </span>┃<span style=\"font-weight: bold\">         Param # </span>┃\n",
       "┡━━━━━━━━━━━━━━━━━━━━━━━━━━━━━━━━━━━━━━━━━━━━━━━╇━━━━━━━━━━━━━━━━━━━━━━━━━━━━━━━━━━━━━━━━╇━━━━━━━━━━━━━━━━━┩\n",
       "│ padding_mask (<span style=\"color: #0087ff; text-decoration-color: #0087ff\">InputLayer</span>)                     │ (<span style=\"color: #00d7ff; text-decoration-color: #00d7ff\">None</span>, <span style=\"color: #00d7ff; text-decoration-color: #00d7ff\">None</span>)                           │               <span style=\"color: #00af00; text-decoration-color: #00af00\">0</span> │\n",
       "├───────────────────────────────────────────────┼────────────────────────────────────────┼─────────────────┤\n",
       "│ token_ids (<span style=\"color: #0087ff; text-decoration-color: #0087ff\">InputLayer</span>)                        │ (<span style=\"color: #00d7ff; text-decoration-color: #00d7ff\">None</span>, <span style=\"color: #00d7ff; text-decoration-color: #00d7ff\">None</span>)                           │               <span style=\"color: #00af00; text-decoration-color: #00af00\">0</span> │\n",
       "├───────────────────────────────────────────────┼────────────────────────────────────────┼─────────────────┤\n",
       "│ distil_bert_backbone_7 (<span style=\"color: #0087ff; text-decoration-color: #0087ff\">DistilBertBackbone</span>)   │ (<span style=\"color: #00d7ff; text-decoration-color: #00d7ff\">None</span>, <span style=\"color: #00d7ff; text-decoration-color: #00d7ff\">None</span>, <span style=\"color: #00af00; text-decoration-color: #00af00\">768</span>)                      │      <span style=\"color: #00af00; text-decoration-color: #00af00\">66,362,880</span> │\n",
       "├───────────────────────────────────────────────┼────────────────────────────────────────┼─────────────────┤\n",
       "│ tf.__operators__.getitem_7 (<span style=\"color: #0087ff; text-decoration-color: #0087ff\">SlicingOpLambda</span>)  │ (<span style=\"color: #00d7ff; text-decoration-color: #00d7ff\">None</span>, <span style=\"color: #00af00; text-decoration-color: #00af00\">768</span>)                            │               <span style=\"color: #00af00; text-decoration-color: #00af00\">0</span> │\n",
       "├───────────────────────────────────────────────┼────────────────────────────────────────┼─────────────────┤\n",
       "│ pooled_dense (<span style=\"color: #0087ff; text-decoration-color: #0087ff\">Dense</span>)                          │ (<span style=\"color: #00d7ff; text-decoration-color: #00d7ff\">None</span>, <span style=\"color: #00af00; text-decoration-color: #00af00\">768</span>)                            │         <span style=\"color: #00af00; text-decoration-color: #00af00\">590,592</span> │\n",
       "├───────────────────────────────────────────────┼────────────────────────────────────────┼─────────────────┤\n",
       "│ classifier_dropout (<span style=\"color: #0087ff; text-decoration-color: #0087ff\">Dropout</span>)                  │ (<span style=\"color: #00d7ff; text-decoration-color: #00d7ff\">None</span>, <span style=\"color: #00af00; text-decoration-color: #00af00\">768</span>)                            │               <span style=\"color: #00af00; text-decoration-color: #00af00\">0</span> │\n",
       "├───────────────────────────────────────────────┼────────────────────────────────────────┼─────────────────┤\n",
       "│ logits (<span style=\"color: #0087ff; text-decoration-color: #0087ff\">Dense</span>)                                │ (<span style=\"color: #00d7ff; text-decoration-color: #00d7ff\">None</span>, <span style=\"color: #00af00; text-decoration-color: #00af00\">2</span>)                              │           <span style=\"color: #00af00; text-decoration-color: #00af00\">1,538</span> │\n",
       "└───────────────────────────────────────────────┴────────────────────────────────────────┴─────────────────┘\n",
       "</pre>\n"
      ],
      "text/plain": [
       "┏━━━━━━━━━━━━━━━━━━━━━━━━━━━━━━━━━━━━━━━━━━━━━━━┳━━━━━━━━━━━━━━━━━━━━━━━━━━━━━━━━━━━━━━━━┳━━━━━━━━━━━━━━━━━┓\n",
       "┃\u001b[1m \u001b[0m\u001b[1mLayer (type)                                 \u001b[0m\u001b[1m \u001b[0m┃\u001b[1m \u001b[0m\u001b[1mOutput Shape                          \u001b[0m\u001b[1m \u001b[0m┃\u001b[1m \u001b[0m\u001b[1m        Param #\u001b[0m\u001b[1m \u001b[0m┃\n",
       "┡━━━━━━━━━━━━━━━━━━━━━━━━━━━━━━━━━━━━━━━━━━━━━━━╇━━━━━━━━━━━━━━━━━━━━━━━━━━━━━━━━━━━━━━━━╇━━━━━━━━━━━━━━━━━┩\n",
       "│ padding_mask (\u001b[38;5;33mInputLayer\u001b[0m)                     │ (\u001b[38;5;45mNone\u001b[0m, \u001b[38;5;45mNone\u001b[0m)                           │               \u001b[38;5;34m0\u001b[0m │\n",
       "├───────────────────────────────────────────────┼────────────────────────────────────────┼─────────────────┤\n",
       "│ token_ids (\u001b[38;5;33mInputLayer\u001b[0m)                        │ (\u001b[38;5;45mNone\u001b[0m, \u001b[38;5;45mNone\u001b[0m)                           │               \u001b[38;5;34m0\u001b[0m │\n",
       "├───────────────────────────────────────────────┼────────────────────────────────────────┼─────────────────┤\n",
       "│ distil_bert_backbone_7 (\u001b[38;5;33mDistilBertBackbone\u001b[0m)   │ (\u001b[38;5;45mNone\u001b[0m, \u001b[38;5;45mNone\u001b[0m, \u001b[38;5;34m768\u001b[0m)                      │      \u001b[38;5;34m66,362,880\u001b[0m │\n",
       "├───────────────────────────────────────────────┼────────────────────────────────────────┼─────────────────┤\n",
       "│ tf.__operators__.getitem_7 (\u001b[38;5;33mSlicingOpLambda\u001b[0m)  │ (\u001b[38;5;45mNone\u001b[0m, \u001b[38;5;34m768\u001b[0m)                            │               \u001b[38;5;34m0\u001b[0m │\n",
       "├───────────────────────────────────────────────┼────────────────────────────────────────┼─────────────────┤\n",
       "│ pooled_dense (\u001b[38;5;33mDense\u001b[0m)                          │ (\u001b[38;5;45mNone\u001b[0m, \u001b[38;5;34m768\u001b[0m)                            │         \u001b[38;5;34m590,592\u001b[0m │\n",
       "├───────────────────────────────────────────────┼────────────────────────────────────────┼─────────────────┤\n",
       "│ classifier_dropout (\u001b[38;5;33mDropout\u001b[0m)                  │ (\u001b[38;5;45mNone\u001b[0m, \u001b[38;5;34m768\u001b[0m)                            │               \u001b[38;5;34m0\u001b[0m │\n",
       "├───────────────────────────────────────────────┼────────────────────────────────────────┼─────────────────┤\n",
       "│ logits (\u001b[38;5;33mDense\u001b[0m)                                │ (\u001b[38;5;45mNone\u001b[0m, \u001b[38;5;34m2\u001b[0m)                              │           \u001b[38;5;34m1,538\u001b[0m │\n",
       "└───────────────────────────────────────────────┴────────────────────────────────────────┴─────────────────┘\n"
      ]
     },
     "metadata": {},
     "output_type": "display_data"
    },
    {
     "data": {
      "text/html": [
       "<pre style=\"white-space:pre;overflow-x:auto;line-height:normal;font-family:Menlo,'DejaVu Sans Mono',consolas,'Courier New',monospace\"><span style=\"font-weight: bold\"> Total params: </span><span style=\"color: #00af00; text-decoration-color: #00af00\">66,955,010</span> (255.41 MB)\n",
       "</pre>\n"
      ],
      "text/plain": [
       "\u001b[1m Total params: \u001b[0m\u001b[38;5;34m66,955,010\u001b[0m (255.41 MB)\n"
      ]
     },
     "metadata": {},
     "output_type": "display_data"
    },
    {
     "data": {
      "text/html": [
       "<pre style=\"white-space:pre;overflow-x:auto;line-height:normal;font-family:Menlo,'DejaVu Sans Mono',consolas,'Courier New',monospace\"><span style=\"font-weight: bold\"> Trainable params: </span><span style=\"color: #00af00; text-decoration-color: #00af00\">66,955,010</span> (255.41 MB)\n",
       "</pre>\n"
      ],
      "text/plain": [
       "\u001b[1m Trainable params: \u001b[0m\u001b[38;5;34m66,955,010\u001b[0m (255.41 MB)\n"
      ]
     },
     "metadata": {},
     "output_type": "display_data"
    },
    {
     "data": {
      "text/html": [
       "<pre style=\"white-space:pre;overflow-x:auto;line-height:normal;font-family:Menlo,'DejaVu Sans Mono',consolas,'Courier New',monospace\"><span style=\"font-weight: bold\"> Non-trainable params: </span><span style=\"color: #00af00; text-decoration-color: #00af00\">0</span> (0.00 B)\n",
       "</pre>\n"
      ],
      "text/plain": [
       "\u001b[1m Non-trainable params: \u001b[0m\u001b[38;5;34m0\u001b[0m (0.00 B)\n"
      ]
     },
     "metadata": {},
     "output_type": "display_data"
    }
   ],
   "source": [
    "# Load a DistilBERT model.\n",
    "preset= \"distil_bert_base_en_uncased\"\n",
    "\n",
    "# Use a shorter sequence length.\n",
    "preprocessor = keras_nlp.models.DistilBertPreprocessor.from_preset(preset,\n",
    "                                                                   sequence_length=160,\n",
    "                                                                   name=\"preprocessor_4_tweets\"\n",
    "                                                                  )\n",
    "\n",
    "# Pretrained classifier.\n",
    "classifier = keras_nlp.models.DistilBertClassifier.from_preset(preset,\n",
    "                                                               preprocessor = preprocessor, \n",
    "                                                               num_classes=2)\n",
    "\n",
    "classifier.summary()"
   ]
  },
  {
   "cell_type": "markdown",
   "metadata": {
    "_cell_guid": "e89c9c39-29d7-4458-b465-e961999294e3",
    "_uuid": "009a0003-65d4-4e8a-8b65-a4878944c964",
    "collapsed": false,
    "jupyter": {
     "outputs_hidden": false
    },
    "trusted": true
   },
   "source": [
    "# Train your own model, fine-tuning BERT"
   ]
  },
  {
   "cell_type": "code",
   "execution_count": 138,
   "metadata": {
    "_cell_guid": "a1224eea-9433-49f0-a137-9359878f104e",
    "_uuid": "d9ec5635-639e-4417-81e7-04b9e2769765",
    "collapsed": false,
    "execution": {
     "iopub.execute_input": "2023-07-31T20:01:37.146295Z",
     "iopub.status.busy": "2023-07-31T20:01:37.145916Z",
     "iopub.status.idle": "2023-07-31T20:04:19.910429Z",
     "shell.execute_reply": "2023-07-31T20:04:19.909408Z",
     "shell.execute_reply.started": "2023-07-31T20:01:37.146259Z"
    },
    "jupyter": {
     "outputs_hidden": false
    },
    "trusted": true
   },
   "outputs": [
    {
     "name": "stdout",
     "output_type": "stream",
     "text": [
      "Epoch 1/2\n",
      "  46/2148 [..............................] - ETA: 9:46:32 - loss: 0.2023 - accuracy: 0.9495"
     ]
    },
    {
     "ename": "KeyboardInterrupt",
     "evalue": "",
     "output_type": "error",
     "traceback": [
      "\u001b[1;31m---------------------------------------------------------------------------\u001b[0m",
      "\u001b[1;31mKeyboardInterrupt\u001b[0m                         Traceback (most recent call last)",
      "Cell \u001b[1;32mIn[138], line 12\u001b[0m\n\u001b[0;32m      5\u001b[0m classifier\u001b[38;5;241m.\u001b[39mcompile(\n\u001b[0;32m      6\u001b[0m     loss\u001b[38;5;241m=\u001b[39mkeras\u001b[38;5;241m.\u001b[39mlosses\u001b[38;5;241m.\u001b[39mSparseCategoricalCrossentropy(from_logits\u001b[38;5;241m=\u001b[39m\u001b[38;5;28;01mTrue\u001b[39;00m),\n\u001b[0;32m      7\u001b[0m     optimizer\u001b[38;5;241m=\u001b[39mtf\u001b[38;5;241m.\u001b[39mkeras\u001b[38;5;241m.\u001b[39moptimizers\u001b[38;5;241m.\u001b[39mAdam(learning_rate\u001b[38;5;241m=\u001b[39m\u001b[38;5;241m1e-5\u001b[39m), \n\u001b[0;32m      8\u001b[0m     metrics\u001b[38;5;241m=\u001b[39m[\u001b[38;5;124m\"\u001b[39m\u001b[38;5;124maccuracy\u001b[39m\u001b[38;5;124m\"\u001b[39m]\n\u001b[0;32m      9\u001b[0m )\n\u001b[0;32m     11\u001b[0m \u001b[38;5;66;03m# Fit the model\u001b[39;00m\n\u001b[1;32m---> 12\u001b[0m history \u001b[38;5;241m=\u001b[39m \u001b[43mclassifier\u001b[49m\u001b[38;5;241;43m.\u001b[39;49m\u001b[43mfit\u001b[49m\u001b[43m(\u001b[49m\n\u001b[0;32m     13\u001b[0m \u001b[43m    \u001b[49m\u001b[43mx\u001b[49m\u001b[38;5;241;43m=\u001b[39;49m\u001b[43mX_train\u001b[49m\u001b[43m,\u001b[49m\n\u001b[0;32m     14\u001b[0m \u001b[43m    \u001b[49m\u001b[43my\u001b[49m\u001b[38;5;241;43m=\u001b[39;49m\u001b[43my_train\u001b[49m\u001b[43m,\u001b[49m\n\u001b[0;32m     15\u001b[0m \u001b[43m    \u001b[49m\u001b[43mbatch_size\u001b[49m\u001b[38;5;241;43m=\u001b[39;49m\u001b[43mBATCH_SIZE\u001b[49m\u001b[43m,\u001b[49m\n\u001b[0;32m     16\u001b[0m \u001b[43m    \u001b[49m\u001b[43mepochs\u001b[49m\u001b[38;5;241;43m=\u001b[39;49m\u001b[43mEPOCHS\u001b[49m\u001b[43m,\u001b[49m\u001b[43m \u001b[49m\n\u001b[0;32m     17\u001b[0m \u001b[43m    \u001b[49m\u001b[43mvalidation_data\u001b[49m\u001b[38;5;241;43m=\u001b[39;49m\u001b[43m(\u001b[49m\u001b[43mX_val\u001b[49m\u001b[43m,\u001b[49m\u001b[43m \u001b[49m\u001b[43my_val\u001b[49m\u001b[43m)\u001b[49m\n\u001b[0;32m     18\u001b[0m \u001b[43m)\u001b[49m\n",
      "File \u001b[1;32mc:\\Users\\Unearthlysoap\\anaconda3\\envs\\seeking\\lib\\site-packages\\keras_nlp\\src\\utils\\pipeline_model.py:202\u001b[0m, in \u001b[0;36mPipelineModel.fit\u001b[1;34m(self, x, y, batch_size, sample_weight, validation_data, validation_split, **kwargs)\u001b[0m\n\u001b[0;32m    195\u001b[0m         (vx, vy, vsw) \u001b[38;5;241m=\u001b[39m keras\u001b[38;5;241m.\u001b[39mutils\u001b[38;5;241m.\u001b[39munpack_x_y_sample_weight(\n\u001b[0;32m    196\u001b[0m             validation_data\n\u001b[0;32m    197\u001b[0m         )\n\u001b[0;32m    198\u001b[0m         validation_data \u001b[38;5;241m=\u001b[39m _convert_inputs_to_dataset(\n\u001b[0;32m    199\u001b[0m             vx, vy, vsw, batch_size\n\u001b[0;32m    200\u001b[0m         )\n\u001b[1;32m--> 202\u001b[0m \u001b[38;5;28;01mreturn\u001b[39;00m \u001b[38;5;28;43msuper\u001b[39;49m\u001b[43m(\u001b[49m\u001b[43m)\u001b[49m\u001b[38;5;241;43m.\u001b[39;49m\u001b[43mfit\u001b[49m\u001b[43m(\u001b[49m\n\u001b[0;32m    203\u001b[0m \u001b[43m    \u001b[49m\u001b[43mx\u001b[49m\u001b[38;5;241;43m=\u001b[39;49m\u001b[43mx\u001b[49m\u001b[43m,\u001b[49m\n\u001b[0;32m    204\u001b[0m \u001b[43m    \u001b[49m\u001b[43my\u001b[49m\u001b[38;5;241;43m=\u001b[39;49m\u001b[38;5;28;43;01mNone\u001b[39;49;00m\u001b[43m,\u001b[49m\n\u001b[0;32m    205\u001b[0m \u001b[43m    \u001b[49m\u001b[43mbatch_size\u001b[49m\u001b[38;5;241;43m=\u001b[39;49m\u001b[38;5;28;43;01mNone\u001b[39;49;00m\u001b[43m,\u001b[49m\n\u001b[0;32m    206\u001b[0m \u001b[43m    \u001b[49m\u001b[43msample_weight\u001b[49m\u001b[38;5;241;43m=\u001b[39;49m\u001b[38;5;28;43;01mNone\u001b[39;49;00m\u001b[43m,\u001b[49m\n\u001b[0;32m    207\u001b[0m \u001b[43m    \u001b[49m\u001b[43mvalidation_data\u001b[49m\u001b[38;5;241;43m=\u001b[39;49m\u001b[43mvalidation_data\u001b[49m\u001b[43m,\u001b[49m\n\u001b[0;32m    208\u001b[0m \u001b[43m    \u001b[49m\u001b[38;5;241;43m*\u001b[39;49m\u001b[38;5;241;43m*\u001b[39;49m\u001b[43mkwargs\u001b[49m\u001b[43m,\u001b[49m\n\u001b[0;32m    209\u001b[0m \u001b[43m\u001b[49m\u001b[43m)\u001b[49m\n",
      "File \u001b[1;32mc:\\Users\\Unearthlysoap\\anaconda3\\envs\\seeking\\lib\\site-packages\\keras\\utils\\traceback_utils.py:65\u001b[0m, in \u001b[0;36mfilter_traceback.<locals>.error_handler\u001b[1;34m(*args, **kwargs)\u001b[0m\n\u001b[0;32m     63\u001b[0m filtered_tb \u001b[38;5;241m=\u001b[39m \u001b[38;5;28;01mNone\u001b[39;00m\n\u001b[0;32m     64\u001b[0m \u001b[38;5;28;01mtry\u001b[39;00m:\n\u001b[1;32m---> 65\u001b[0m     \u001b[38;5;28;01mreturn\u001b[39;00m \u001b[43mfn\u001b[49m\u001b[43m(\u001b[49m\u001b[38;5;241;43m*\u001b[39;49m\u001b[43margs\u001b[49m\u001b[43m,\u001b[49m\u001b[43m \u001b[49m\u001b[38;5;241;43m*\u001b[39;49m\u001b[38;5;241;43m*\u001b[39;49m\u001b[43mkwargs\u001b[49m\u001b[43m)\u001b[49m\n\u001b[0;32m     66\u001b[0m \u001b[38;5;28;01mexcept\u001b[39;00m \u001b[38;5;167;01mException\u001b[39;00m \u001b[38;5;28;01mas\u001b[39;00m e:\n\u001b[0;32m     67\u001b[0m     filtered_tb \u001b[38;5;241m=\u001b[39m _process_traceback_frames(e\u001b[38;5;241m.\u001b[39m__traceback__)\n",
      "File \u001b[1;32mc:\\Users\\Unearthlysoap\\anaconda3\\envs\\seeking\\lib\\site-packages\\keras\\engine\\training.py:1564\u001b[0m, in \u001b[0;36mModel.fit\u001b[1;34m(self, x, y, batch_size, epochs, verbose, callbacks, validation_split, validation_data, shuffle, class_weight, sample_weight, initial_epoch, steps_per_epoch, validation_steps, validation_batch_size, validation_freq, max_queue_size, workers, use_multiprocessing)\u001b[0m\n\u001b[0;32m   1556\u001b[0m \u001b[38;5;28;01mwith\u001b[39;00m tf\u001b[38;5;241m.\u001b[39mprofiler\u001b[38;5;241m.\u001b[39mexperimental\u001b[38;5;241m.\u001b[39mTrace(\n\u001b[0;32m   1557\u001b[0m     \u001b[38;5;124m\"\u001b[39m\u001b[38;5;124mtrain\u001b[39m\u001b[38;5;124m\"\u001b[39m,\n\u001b[0;32m   1558\u001b[0m     epoch_num\u001b[38;5;241m=\u001b[39mepoch,\n\u001b[1;32m   (...)\u001b[0m\n\u001b[0;32m   1561\u001b[0m     _r\u001b[38;5;241m=\u001b[39m\u001b[38;5;241m1\u001b[39m,\n\u001b[0;32m   1562\u001b[0m ):\n\u001b[0;32m   1563\u001b[0m     callbacks\u001b[38;5;241m.\u001b[39mon_train_batch_begin(step)\n\u001b[1;32m-> 1564\u001b[0m     tmp_logs \u001b[38;5;241m=\u001b[39m \u001b[38;5;28;43mself\u001b[39;49m\u001b[38;5;241;43m.\u001b[39;49m\u001b[43mtrain_function\u001b[49m\u001b[43m(\u001b[49m\u001b[43miterator\u001b[49m\u001b[43m)\u001b[49m\n\u001b[0;32m   1565\u001b[0m     \u001b[38;5;28;01mif\u001b[39;00m data_handler\u001b[38;5;241m.\u001b[39mshould_sync:\n\u001b[0;32m   1566\u001b[0m         context\u001b[38;5;241m.\u001b[39masync_wait()\n",
      "File \u001b[1;32mc:\\Users\\Unearthlysoap\\anaconda3\\envs\\seeking\\lib\\site-packages\\tensorflow\\python\\util\\traceback_utils.py:150\u001b[0m, in \u001b[0;36mfilter_traceback.<locals>.error_handler\u001b[1;34m(*args, **kwargs)\u001b[0m\n\u001b[0;32m    148\u001b[0m filtered_tb \u001b[38;5;241m=\u001b[39m \u001b[38;5;28;01mNone\u001b[39;00m\n\u001b[0;32m    149\u001b[0m \u001b[38;5;28;01mtry\u001b[39;00m:\n\u001b[1;32m--> 150\u001b[0m   \u001b[38;5;28;01mreturn\u001b[39;00m \u001b[43mfn\u001b[49m\u001b[43m(\u001b[49m\u001b[38;5;241;43m*\u001b[39;49m\u001b[43margs\u001b[49m\u001b[43m,\u001b[49m\u001b[43m \u001b[49m\u001b[38;5;241;43m*\u001b[39;49m\u001b[38;5;241;43m*\u001b[39;49m\u001b[43mkwargs\u001b[49m\u001b[43m)\u001b[49m\n\u001b[0;32m    151\u001b[0m \u001b[38;5;28;01mexcept\u001b[39;00m \u001b[38;5;167;01mException\u001b[39;00m \u001b[38;5;28;01mas\u001b[39;00m e:\n\u001b[0;32m    152\u001b[0m   filtered_tb \u001b[38;5;241m=\u001b[39m _process_traceback_frames(e\u001b[38;5;241m.\u001b[39m__traceback__)\n",
      "File \u001b[1;32mc:\\Users\\Unearthlysoap\\anaconda3\\envs\\seeking\\lib\\site-packages\\tensorflow\\python\\eager\\def_function.py:915\u001b[0m, in \u001b[0;36mFunction.__call__\u001b[1;34m(self, *args, **kwds)\u001b[0m\n\u001b[0;32m    912\u001b[0m compiler \u001b[38;5;241m=\u001b[39m \u001b[38;5;124m\"\u001b[39m\u001b[38;5;124mxla\u001b[39m\u001b[38;5;124m\"\u001b[39m \u001b[38;5;28;01mif\u001b[39;00m \u001b[38;5;28mself\u001b[39m\u001b[38;5;241m.\u001b[39m_jit_compile \u001b[38;5;28;01melse\u001b[39;00m \u001b[38;5;124m\"\u001b[39m\u001b[38;5;124mnonXla\u001b[39m\u001b[38;5;124m\"\u001b[39m\n\u001b[0;32m    914\u001b[0m \u001b[38;5;28;01mwith\u001b[39;00m OptionalXlaContext(\u001b[38;5;28mself\u001b[39m\u001b[38;5;241m.\u001b[39m_jit_compile):\n\u001b[1;32m--> 915\u001b[0m   result \u001b[38;5;241m=\u001b[39m \u001b[38;5;28;43mself\u001b[39;49m\u001b[38;5;241;43m.\u001b[39;49m\u001b[43m_call\u001b[49m\u001b[43m(\u001b[49m\u001b[38;5;241;43m*\u001b[39;49m\u001b[43margs\u001b[49m\u001b[43m,\u001b[49m\u001b[43m \u001b[49m\u001b[38;5;241;43m*\u001b[39;49m\u001b[38;5;241;43m*\u001b[39;49m\u001b[43mkwds\u001b[49m\u001b[43m)\u001b[49m\n\u001b[0;32m    917\u001b[0m new_tracing_count \u001b[38;5;241m=\u001b[39m \u001b[38;5;28mself\u001b[39m\u001b[38;5;241m.\u001b[39mexperimental_get_tracing_count()\n\u001b[0;32m    918\u001b[0m without_tracing \u001b[38;5;241m=\u001b[39m (tracing_count \u001b[38;5;241m==\u001b[39m new_tracing_count)\n",
      "File \u001b[1;32mc:\\Users\\Unearthlysoap\\anaconda3\\envs\\seeking\\lib\\site-packages\\tensorflow\\python\\eager\\def_function.py:947\u001b[0m, in \u001b[0;36mFunction._call\u001b[1;34m(self, *args, **kwds)\u001b[0m\n\u001b[0;32m    944\u001b[0m   \u001b[38;5;28mself\u001b[39m\u001b[38;5;241m.\u001b[39m_lock\u001b[38;5;241m.\u001b[39mrelease()\n\u001b[0;32m    945\u001b[0m   \u001b[38;5;66;03m# In this case we have created variables on the first call, so we run the\u001b[39;00m\n\u001b[0;32m    946\u001b[0m   \u001b[38;5;66;03m# defunned version which is guaranteed to never create variables.\u001b[39;00m\n\u001b[1;32m--> 947\u001b[0m   \u001b[38;5;28;01mreturn\u001b[39;00m \u001b[38;5;28;43mself\u001b[39;49m\u001b[38;5;241;43m.\u001b[39;49m\u001b[43m_stateless_fn\u001b[49m\u001b[43m(\u001b[49m\u001b[38;5;241;43m*\u001b[39;49m\u001b[43margs\u001b[49m\u001b[43m,\u001b[49m\u001b[43m \u001b[49m\u001b[38;5;241;43m*\u001b[39;49m\u001b[38;5;241;43m*\u001b[39;49m\u001b[43mkwds\u001b[49m\u001b[43m)\u001b[49m  \u001b[38;5;66;03m# pylint: disable=not-callable\u001b[39;00m\n\u001b[0;32m    948\u001b[0m \u001b[38;5;28;01melif\u001b[39;00m \u001b[38;5;28mself\u001b[39m\u001b[38;5;241m.\u001b[39m_stateful_fn \u001b[38;5;129;01mis\u001b[39;00m \u001b[38;5;129;01mnot\u001b[39;00m \u001b[38;5;28;01mNone\u001b[39;00m:\n\u001b[0;32m    949\u001b[0m   \u001b[38;5;66;03m# Release the lock early so that multiple threads can perform the call\u001b[39;00m\n\u001b[0;32m    950\u001b[0m   \u001b[38;5;66;03m# in parallel.\u001b[39;00m\n\u001b[0;32m    951\u001b[0m   \u001b[38;5;28mself\u001b[39m\u001b[38;5;241m.\u001b[39m_lock\u001b[38;5;241m.\u001b[39mrelease()\n",
      "File \u001b[1;32mc:\\Users\\Unearthlysoap\\anaconda3\\envs\\seeking\\lib\\site-packages\\tensorflow\\python\\eager\\function.py:2496\u001b[0m, in \u001b[0;36mFunction.__call__\u001b[1;34m(self, *args, **kwargs)\u001b[0m\n\u001b[0;32m   2493\u001b[0m \u001b[38;5;28;01mwith\u001b[39;00m \u001b[38;5;28mself\u001b[39m\u001b[38;5;241m.\u001b[39m_lock:\n\u001b[0;32m   2494\u001b[0m   (graph_function,\n\u001b[0;32m   2495\u001b[0m    filtered_flat_args) \u001b[38;5;241m=\u001b[39m \u001b[38;5;28mself\u001b[39m\u001b[38;5;241m.\u001b[39m_maybe_define_function(args, kwargs)\n\u001b[1;32m-> 2496\u001b[0m \u001b[38;5;28;01mreturn\u001b[39;00m \u001b[43mgraph_function\u001b[49m\u001b[38;5;241;43m.\u001b[39;49m\u001b[43m_call_flat\u001b[49m\u001b[43m(\u001b[49m\n\u001b[0;32m   2497\u001b[0m \u001b[43m    \u001b[49m\u001b[43mfiltered_flat_args\u001b[49m\u001b[43m,\u001b[49m\u001b[43m \u001b[49m\u001b[43mcaptured_inputs\u001b[49m\u001b[38;5;241;43m=\u001b[39;49m\u001b[43mgraph_function\u001b[49m\u001b[38;5;241;43m.\u001b[39;49m\u001b[43mcaptured_inputs\u001b[49m\u001b[43m)\u001b[49m\n",
      "File \u001b[1;32mc:\\Users\\Unearthlysoap\\anaconda3\\envs\\seeking\\lib\\site-packages\\tensorflow\\python\\eager\\function.py:1862\u001b[0m, in \u001b[0;36mConcreteFunction._call_flat\u001b[1;34m(self, args, captured_inputs, cancellation_manager)\u001b[0m\n\u001b[0;32m   1858\u001b[0m possible_gradient_type \u001b[38;5;241m=\u001b[39m gradients_util\u001b[38;5;241m.\u001b[39mPossibleTapeGradientTypes(args)\n\u001b[0;32m   1859\u001b[0m \u001b[38;5;28;01mif\u001b[39;00m (possible_gradient_type \u001b[38;5;241m==\u001b[39m gradients_util\u001b[38;5;241m.\u001b[39mPOSSIBLE_GRADIENT_TYPES_NONE\n\u001b[0;32m   1860\u001b[0m     \u001b[38;5;129;01mand\u001b[39;00m executing_eagerly):\n\u001b[0;32m   1861\u001b[0m   \u001b[38;5;66;03m# No tape is watching; skip to running the function.\u001b[39;00m\n\u001b[1;32m-> 1862\u001b[0m   \u001b[38;5;28;01mreturn\u001b[39;00m \u001b[38;5;28mself\u001b[39m\u001b[38;5;241m.\u001b[39m_build_call_outputs(\u001b[38;5;28;43mself\u001b[39;49m\u001b[38;5;241;43m.\u001b[39;49m\u001b[43m_inference_function\u001b[49m\u001b[38;5;241;43m.\u001b[39;49m\u001b[43mcall\u001b[49m\u001b[43m(\u001b[49m\n\u001b[0;32m   1863\u001b[0m \u001b[43m      \u001b[49m\u001b[43mctx\u001b[49m\u001b[43m,\u001b[49m\u001b[43m \u001b[49m\u001b[43margs\u001b[49m\u001b[43m,\u001b[49m\u001b[43m \u001b[49m\u001b[43mcancellation_manager\u001b[49m\u001b[38;5;241;43m=\u001b[39;49m\u001b[43mcancellation_manager\u001b[49m\u001b[43m)\u001b[49m)\n\u001b[0;32m   1864\u001b[0m forward_backward \u001b[38;5;241m=\u001b[39m \u001b[38;5;28mself\u001b[39m\u001b[38;5;241m.\u001b[39m_select_forward_and_backward_functions(\n\u001b[0;32m   1865\u001b[0m     args,\n\u001b[0;32m   1866\u001b[0m     possible_gradient_type,\n\u001b[0;32m   1867\u001b[0m     executing_eagerly)\n\u001b[0;32m   1868\u001b[0m forward_function, args_with_tangents \u001b[38;5;241m=\u001b[39m forward_backward\u001b[38;5;241m.\u001b[39mforward()\n",
      "File \u001b[1;32mc:\\Users\\Unearthlysoap\\anaconda3\\envs\\seeking\\lib\\site-packages\\tensorflow\\python\\eager\\function.py:499\u001b[0m, in \u001b[0;36m_EagerDefinedFunction.call\u001b[1;34m(self, ctx, args, cancellation_manager)\u001b[0m\n\u001b[0;32m    497\u001b[0m \u001b[38;5;28;01mwith\u001b[39;00m _InterpolateFunctionError(\u001b[38;5;28mself\u001b[39m):\n\u001b[0;32m    498\u001b[0m   \u001b[38;5;28;01mif\u001b[39;00m cancellation_manager \u001b[38;5;129;01mis\u001b[39;00m \u001b[38;5;28;01mNone\u001b[39;00m:\n\u001b[1;32m--> 499\u001b[0m     outputs \u001b[38;5;241m=\u001b[39m \u001b[43mexecute\u001b[49m\u001b[38;5;241;43m.\u001b[39;49m\u001b[43mexecute\u001b[49m\u001b[43m(\u001b[49m\n\u001b[0;32m    500\u001b[0m \u001b[43m        \u001b[49m\u001b[38;5;28;43mstr\u001b[39;49m\u001b[43m(\u001b[49m\u001b[38;5;28;43mself\u001b[39;49m\u001b[38;5;241;43m.\u001b[39;49m\u001b[43msignature\u001b[49m\u001b[38;5;241;43m.\u001b[39;49m\u001b[43mname\u001b[49m\u001b[43m)\u001b[49m\u001b[43m,\u001b[49m\n\u001b[0;32m    501\u001b[0m \u001b[43m        \u001b[49m\u001b[43mnum_outputs\u001b[49m\u001b[38;5;241;43m=\u001b[39;49m\u001b[38;5;28;43mself\u001b[39;49m\u001b[38;5;241;43m.\u001b[39;49m\u001b[43m_num_outputs\u001b[49m\u001b[43m,\u001b[49m\n\u001b[0;32m    502\u001b[0m \u001b[43m        \u001b[49m\u001b[43minputs\u001b[49m\u001b[38;5;241;43m=\u001b[39;49m\u001b[43margs\u001b[49m\u001b[43m,\u001b[49m\n\u001b[0;32m    503\u001b[0m \u001b[43m        \u001b[49m\u001b[43mattrs\u001b[49m\u001b[38;5;241;43m=\u001b[39;49m\u001b[43mattrs\u001b[49m\u001b[43m,\u001b[49m\n\u001b[0;32m    504\u001b[0m \u001b[43m        \u001b[49m\u001b[43mctx\u001b[49m\u001b[38;5;241;43m=\u001b[39;49m\u001b[43mctx\u001b[49m\u001b[43m)\u001b[49m\n\u001b[0;32m    505\u001b[0m   \u001b[38;5;28;01melse\u001b[39;00m:\n\u001b[0;32m    506\u001b[0m     outputs \u001b[38;5;241m=\u001b[39m execute\u001b[38;5;241m.\u001b[39mexecute_with_cancellation(\n\u001b[0;32m    507\u001b[0m         \u001b[38;5;28mstr\u001b[39m(\u001b[38;5;28mself\u001b[39m\u001b[38;5;241m.\u001b[39msignature\u001b[38;5;241m.\u001b[39mname),\n\u001b[0;32m    508\u001b[0m         num_outputs\u001b[38;5;241m=\u001b[39m\u001b[38;5;28mself\u001b[39m\u001b[38;5;241m.\u001b[39m_num_outputs,\n\u001b[1;32m   (...)\u001b[0m\n\u001b[0;32m    511\u001b[0m         ctx\u001b[38;5;241m=\u001b[39mctx,\n\u001b[0;32m    512\u001b[0m         cancellation_manager\u001b[38;5;241m=\u001b[39mcancellation_manager)\n",
      "File \u001b[1;32mc:\\Users\\Unearthlysoap\\anaconda3\\envs\\seeking\\lib\\site-packages\\tensorflow\\python\\eager\\execute.py:54\u001b[0m, in \u001b[0;36mquick_execute\u001b[1;34m(op_name, num_outputs, inputs, attrs, ctx, name)\u001b[0m\n\u001b[0;32m     52\u001b[0m \u001b[38;5;28;01mtry\u001b[39;00m:\n\u001b[0;32m     53\u001b[0m   ctx\u001b[38;5;241m.\u001b[39mensure_initialized()\n\u001b[1;32m---> 54\u001b[0m   tensors \u001b[38;5;241m=\u001b[39m \u001b[43mpywrap_tfe\u001b[49m\u001b[38;5;241;43m.\u001b[39;49m\u001b[43mTFE_Py_Execute\u001b[49m\u001b[43m(\u001b[49m\u001b[43mctx\u001b[49m\u001b[38;5;241;43m.\u001b[39;49m\u001b[43m_handle\u001b[49m\u001b[43m,\u001b[49m\u001b[43m \u001b[49m\u001b[43mdevice_name\u001b[49m\u001b[43m,\u001b[49m\u001b[43m \u001b[49m\u001b[43mop_name\u001b[49m\u001b[43m,\u001b[49m\n\u001b[0;32m     55\u001b[0m \u001b[43m                                      \u001b[49m\u001b[43minputs\u001b[49m\u001b[43m,\u001b[49m\u001b[43m \u001b[49m\u001b[43mattrs\u001b[49m\u001b[43m,\u001b[49m\u001b[43m \u001b[49m\u001b[43mnum_outputs\u001b[49m\u001b[43m)\u001b[49m\n\u001b[0;32m     56\u001b[0m \u001b[38;5;28;01mexcept\u001b[39;00m core\u001b[38;5;241m.\u001b[39m_NotOkStatusException \u001b[38;5;28;01mas\u001b[39;00m e:\n\u001b[0;32m     57\u001b[0m   \u001b[38;5;28;01mif\u001b[39;00m name \u001b[38;5;129;01mis\u001b[39;00m \u001b[38;5;129;01mnot\u001b[39;00m \u001b[38;5;28;01mNone\u001b[39;00m:\n",
      "\u001b[1;31mKeyboardInterrupt\u001b[0m: "
     ]
    }
   ],
   "source": [
    "import tensorflow as tf\n",
    "from tensorflow import keras\n",
    "\n",
    "# Compile the model\n",
    "classifier.compile(\n",
    "    loss=keras.losses.SparseCategoricalCrossentropy(from_logits=True),\n",
    "    optimizer=tf.keras.optimizers.Adam(learning_rate=1e-5), \n",
    "    metrics=[\"accuracy\"]\n",
    ")\n",
    "\n",
    "# Fit the model\n",
    "history = classifier.fit(\n",
    "    x=X_train,\n",
    "    y=y_train,\n",
    "    batch_size=BATCH_SIZE,\n",
    "    epochs=EPOCHS, \n",
    "    validation_data=(X_val, y_val)\n",
    ")"
   ]
  },
  {
   "cell_type": "code",
   "execution_count": null,
   "metadata": {
    "_cell_guid": "df6af1bc-a1b0-4c3f-bba4-92a5ef7c2cb3",
    "_uuid": "4f53c22d-8729-4c0c-bd6c-b972f0829a96",
    "collapsed": false,
    "execution": {
     "iopub.execute_input": "2023-07-31T20:04:19.91385Z",
     "iopub.status.busy": "2023-07-31T20:04:19.913491Z",
     "iopub.status.idle": "2023-07-31T20:04:19.923256Z",
     "shell.execute_reply": "2023-07-31T20:04:19.922094Z",
     "shell.execute_reply.started": "2023-07-31T20:04:19.913815Z"
    },
    "jupyter": {
     "outputs_hidden": false
    },
    "trusted": true
   },
   "outputs": [],
   "source": [
    "def displayConfusionMatrix(y_true, y_pred, dataset):\n",
    "    disp = ConfusionMatrixDisplay.from_predictions(\n",
    "        y_true,\n",
    "        np.argmax(y_pred, axis=1),\n",
    "        display_labels=[\"Not Disaster\",\"Disaster\"],\n",
    "        cmap=plt.cm.Blues\n",
    "    )\n",
    "\n",
    "    tn, fp, fn, tp = confusion_matrix(y_true, np.argmax(y_pred, axis=1)).ravel()\n",
    "    f1_score = tp / (tp+((fn+fp)/2))\n",
    "\n",
    "    disp.ax_.set_title(\"Confusion Matrix on \" + dataset + \" Dataset -- F1 Score: \" + str(f1_score.round(2)))"
   ]
  },
  {
   "cell_type": "code",
   "execution_count": null,
   "metadata": {
    "_cell_guid": "720ab2f4-40e6-4a43-a5e9-14516cba1957",
    "_uuid": "c9e8668d-2b95-4779-9628-cec6a20a698d",
    "collapsed": false,
    "execution": {
     "iopub.execute_input": "2023-07-31T20:04:19.925162Z",
     "iopub.status.busy": "2023-07-31T20:04:19.924738Z",
     "iopub.status.idle": "2023-07-31T20:05:04.197288Z",
     "shell.execute_reply": "2023-07-31T20:05:04.19632Z",
     "shell.execute_reply.started": "2023-07-31T20:04:19.925118Z"
    },
    "jupyter": {
     "outputs_hidden": false
    },
    "trusted": true
   },
   "outputs": [],
   "source": [
    "y_pred_train = classifier.predict(X_train)\n",
    "\n",
    "displayConfusionMatrix(y_train, y_pred_train, \"Training\")"
   ]
  },
  {
   "cell_type": "code",
   "execution_count": null,
   "metadata": {
    "_cell_guid": "b88a8069-a19e-4585-b3db-289be58d2d66",
    "_uuid": "e229b534-630a-4cef-b954-a65be5e3561c",
    "collapsed": false,
    "execution": {
     "iopub.execute_input": "2023-07-31T20:05:04.199632Z",
     "iopub.status.busy": "2023-07-31T20:05:04.198688Z",
     "iopub.status.idle": "2023-07-31T20:05:12.995278Z",
     "shell.execute_reply": "2023-07-31T20:05:12.994338Z",
     "shell.execute_reply.started": "2023-07-31T20:05:04.199591Z"
    },
    "jupyter": {
     "outputs_hidden": false
    },
    "trusted": true
   },
   "outputs": [],
   "source": [
    "y_pred_val = classifier.predict(X_val)\n",
    "\n",
    "displayConfusionMatrix(y_val, y_pred_val, \"Validation\")"
   ]
  },
  {
   "cell_type": "markdown",
   "metadata": {
    "_cell_guid": "a78b3fc4-0395-4ee3-b98f-fae890a82084",
    "_uuid": "c932ac90-a9f9-4f4c-9bfd-17bf8c864d32",
    "collapsed": false,
    "jupyter": {
     "outputs_hidden": false
    },
    "trusted": true
   },
   "source": [
    "# Generate the submission file \n",
    "\n",
    "For each tweets in the test set, we predict if the given tweet is about a real disaster or not. If so, predict a 1. If not, predict a 0.\n",
    "\n",
    "The `submission.csv` file uses the following format:\n",
    "`id,target`"
   ]
  },
  {
   "cell_type": "code",
   "execution_count": null,
   "metadata": {
    "_cell_guid": "9ab131e5-b9b3-4e69-be1e-18b6bcb404f1",
    "_uuid": "691b7a2a-edc9-4961-8c60-c9a2f9146bb0",
    "collapsed": false,
    "execution": {
     "iopub.execute_input": "2023-07-31T20:05:13.000332Z",
     "iopub.status.busy": "2023-07-31T20:05:12.999248Z",
     "iopub.status.idle": "2023-07-31T20:05:13.023512Z",
     "shell.execute_reply": "2023-07-31T20:05:13.022432Z",
     "shell.execute_reply.started": "2023-07-31T20:05:13.000292Z"
    },
    "jupyter": {
     "outputs_hidden": false
    },
    "trusted": true
   },
   "outputs": [],
   "source": [
    "sample_submission = pd.read_csv(\"/kaggle/input/nlp-getting-started/sample_submission.csv\")\n",
    "sample_submission.head()"
   ]
  },
  {
   "cell_type": "code",
   "execution_count": null,
   "metadata": {
    "_cell_guid": "6c3e452c-a6c7-4482-9ed4-0197b25420a0",
    "_uuid": "e770440d-870c-4a97-839a-4171dccbcb7e",
    "collapsed": false,
    "execution": {
     "iopub.execute_input": "2023-07-31T20:05:13.025972Z",
     "iopub.status.busy": "2023-07-31T20:05:13.025189Z",
     "iopub.status.idle": "2023-07-31T20:05:28.765372Z",
     "shell.execute_reply": "2023-07-31T20:05:28.764404Z",
     "shell.execute_reply.started": "2023-07-31T20:05:13.025933Z"
    },
    "jupyter": {
     "outputs_hidden": false
    },
    "trusted": true
   },
   "outputs": [],
   "source": [
    "sample_submission[\"target\"] = np.argmax(classifier.predict(X_test), axis=1)"
   ]
  },
  {
   "cell_type": "code",
   "execution_count": null,
   "metadata": {
    "_cell_guid": "0294d585-bbf6-4872-8c1b-797b1b4f7bcf",
    "_uuid": "757be125-9fdc-4fe5-b336-035b01fb6447",
    "collapsed": false,
    "execution": {
     "iopub.execute_input": "2023-07-31T20:05:28.767064Z",
     "iopub.status.busy": "2023-07-31T20:05:28.766701Z",
     "iopub.status.idle": "2023-07-31T20:05:28.787427Z",
     "shell.execute_reply": "2023-07-31T20:05:28.786399Z",
     "shell.execute_reply.started": "2023-07-31T20:05:28.767029Z"
    },
    "jupyter": {
     "outputs_hidden": false
    },
    "trusted": true
   },
   "outputs": [],
   "source": [
    "sample_submission.describe()"
   ]
  },
  {
   "cell_type": "code",
   "execution_count": null,
   "metadata": {
    "_cell_guid": "6860b4f7-8b4f-45bb-903e-d0332405bfa0",
    "_uuid": "312e9392-f6a6-4393-9410-832f6d7fa402",
    "collapsed": false,
    "execution": {
     "iopub.execute_input": "2023-07-31T20:05:28.789378Z",
     "iopub.status.busy": "2023-07-31T20:05:28.788974Z",
     "iopub.status.idle": "2023-07-31T20:05:28.803925Z",
     "shell.execute_reply": "2023-07-31T20:05:28.803021Z",
     "shell.execute_reply.started": "2023-07-31T20:05:28.78933Z"
    },
    "jupyter": {
     "outputs_hidden": false
    },
    "trusted": true
   },
   "outputs": [],
   "source": [
    "sample_submission.to_csv(\"submission.csv\", index=False)"
   ]
  }
 ],
 "metadata": {
  "kaggle": {
   "accelerator": "gpu",
   "dataSources": [
    {
     "databundleVersionId": 869809,
     "sourceId": 17777,
     "sourceType": "competition"
    },
    {
     "datasetId": 6147517,
     "sourceId": 9989093,
     "sourceType": "datasetVersion"
    }
   ],
   "dockerImageVersionId": 30528,
   "isGpuEnabled": true,
   "isInternetEnabled": true,
   "language": "python",
   "sourceType": "notebook"
  },
  "kernelspec": {
   "display_name": "seektest",
   "language": "python",
   "name": "python3"
  },
  "language_info": {
   "codemirror_mode": {
    "name": "ipython",
    "version": 3
   },
   "file_extension": ".py",
   "mimetype": "text/x-python",
   "name": "python",
   "nbconvert_exporter": "python",
   "pygments_lexer": "ipython3",
   "version": "3.8.20"
  }
 },
 "nbformat": 4,
 "nbformat_minor": 4
}
